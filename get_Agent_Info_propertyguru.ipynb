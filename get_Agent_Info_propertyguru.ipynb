{
  "nbformat": 4,
  "nbformat_minor": 0,
  "metadata": {
    "colab": {
      "provenance": [],
      "include_colab_link": true
    },
    "kernelspec": {
      "name": "python3",
      "display_name": "Python 3"
    },
    "language_info": {
      "name": "python"
    }
  },
  "cells": [
    {
      "cell_type": "markdown",
      "metadata": {
        "id": "view-in-github",
        "colab_type": "text"
      },
      "source": [
        "<a href=\"https://colab.research.google.com/github/jm-tan-jm/web_scrap_agent_info/blob/main/get_Agent_Info_propertyguru.ipynb\" target=\"_parent\"><img src=\"https://colab.research.google.com/assets/colab-badge.svg\" alt=\"Open In Colab\"/></a>"
      ]
    },
    {
      "cell_type": "code",
      "execution_count": null,
      "metadata": {
        "id": "qJTdxgQfqq4k"
      },
      "outputs": [],
      "source": [
        "## required multiple functions as the main url dont have the agent's info but only the agent profile link"
      ]
    },
    {
      "cell_type": "code",
      "source": [
        "!pip install selenium webdriver_manager"
      ],
      "metadata": {
        "id": "OVPiDgPvrFiP"
      },
      "execution_count": null,
      "outputs": []
    },
    {
      "cell_type": "code",
      "source": [
        "# function 1 - get the agent info link from the property guru url and required region\n",
        "## Limitation - do one page only each time\n",
        "from selenium import webdriver\n",
        "from selenium.webdriver.firefox.options import Options\n",
        "from selenium.webdriver.common.by import By\n",
        "from selenium.webdriver.support.ui import WebDriverWait\n",
        "from selenium.webdriver.support import expected_conditions as EC\n",
        "import time\n",
        "\n",
        "def get_agent_links(core_url=\"https://www.propertyguru.com.my/property-agents\", region=None, page=None):\n",
        "    if region is None:\n",
        "        raise ValueError(\"Please provide valid values for 'region'\")\n",
        "\n",
        "    options = Options()\n",
        "    options.headless = True\n",
        "    options.add_argument(\"--headless\")\n",
        "    driver = webdriver.Firefox(options=options)\n",
        "    driver.minimize_window()\n",
        "\n",
        "    try:\n",
        "        if page == 1:\n",
        "            url = rf\"{core_url}/{region}\"\n",
        "        else:\n",
        "            url = rf\"{core_url}/{region}/{page}\"\n",
        "\n",
        "        driver.get(url)\n",
        "\n",
        "        WebDriverWait(driver, 10).until(\n",
        "            EC.presence_of_element_located((By.CLASS_NAME, 'agent-list'))\n",
        "        )\n",
        "\n",
        "        agent_links = driver.find_elements(By.XPATH, \"//a[contains(@class, 'agent-contact-button')]\")\n",
        "        all_agent_links = [agent_link.get_attribute('href') for agent_link in agent_links]\n",
        "\n",
        "        return all_agent_links\n",
        "\n",
        "    except Exception as e:\n",
        "        print(f\"Error: {e}\")\n",
        "        return []\n",
        "\n",
        "    finally:\n",
        "        driver.quit()"
      ],
      "metadata": {
        "id": "PSB3vmxDqzth"
      },
      "execution_count": null,
      "outputs": []
    },
    {
      "cell_type": "code",
      "source": [
        "# function 2 - get the agent's name and phone number from the url\n",
        "## Limitation - can only handle one link each time, need to iterate the function for each link\n",
        "def get_agent_info(agent_link):\n",
        "    agent_info = {}\n",
        "\n",
        "    options = Options()\n",
        "    options.headless = True\n",
        "    options.add_argument(\"--headless\")\n",
        "    driver = webdriver.Firefox(options=options)\n",
        "    driver.minimize_window()\n",
        "\n",
        "    try:\n",
        "        driver.get(agent_link)\n",
        "\n",
        "        WebDriverWait(driver, 10).until(\n",
        "            EC.presence_of_element_located((By.CLASS_NAME, 'agent-name-wrapper'))\n",
        "        )\n",
        "\n",
        "        agent_name_element = driver.find_element(By.CLASS_NAME, 'agent-name')\n",
        "        agent_name = agent_name_element.text.strip()\n",
        "\n",
        "        phone_number_element = driver.find_element(By.CSS_SELECTOR, '.contact-agent-actions .action-desktop')\n",
        "        phone_number = phone_number_element.get_attribute('phonenumber')\n",
        "\n",
        "        agent_info = {\n",
        "            'agent_name': agent_name,\n",
        "            'phone_number': phone_number\n",
        "        }\n",
        "\n",
        "    except Exception as e:\n",
        "        print(f\"Error: {e}\")\n",
        "\n",
        "    finally:\n",
        "        driver.quit()\n",
        "\n",
        "    return agent_info"
      ],
      "metadata": {
        "id": "yQosnql7q1Li"
      },
      "execution_count": null,
      "outputs": []
    },
    {
      "cell_type": "code",
      "source": [
        "# to run above two functions and convert the result to Excel\n",
        "import pandas as pd\n",
        "\n",
        "# to get multiple agents' profile\n",
        "all_agent_links = []\n",
        "\n",
        "# loop for multiple pages\n",
        "for page_number in range(1, 37):  # Scrapes pages 1 to 36\n",
        "    # function 1\n",
        "    agent_links = get_agent_links(core_url=\"https://www.propertyguru.com.my/property-agents\", region=\"melaka\", page=page_number)\n",
        "    all_agent_links.extend(agent_links)\n",
        "\n",
        "agent_info_list = []\n",
        "\n",
        "# to get agent's info from each links above\n",
        "for agent_link in all_agent_links:\n",
        "    # function 2\n",
        "    agent_info = get_agent_info(agent_link)\n",
        "    agent_info_list.append((agent_info['agent_name'], agent_info['phone_number']))\n",
        "\n",
        "# Convert the list to a DataFrame\n",
        "df = pd.DataFrame(agent_info_list, columns=['Agent Name', 'Phone Number'])\n",
        "\n",
        "print(df)\n",
        "\n",
        "with open('output.txt', 'w') as f:\n",
        "  print(df, file=f)"
      ],
      "metadata": {
        "id": "_EZiXPaKq3xe"
      },
      "execution_count": null,
      "outputs": []
    }
  ]
}