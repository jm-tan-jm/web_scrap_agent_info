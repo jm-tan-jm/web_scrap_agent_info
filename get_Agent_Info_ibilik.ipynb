{
  "nbformat": 4,
  "nbformat_minor": 0,
  "metadata": {
    "colab": {
      "provenance": [],
      "include_colab_link": true
    },
    "kernelspec": {
      "name": "python3",
      "display_name": "Python 3"
    },
    "language_info": {
      "name": "python"
    }
  },
  "cells": [
    {
      "cell_type": "markdown",
      "metadata": {
        "id": "view-in-github",
        "colab_type": "text"
      },
      "source": [
        "<a href=\"https://colab.research.google.com/github/jm-tan-jm/web_scrap_agent_info/blob/main/get_Agent_Info_ibilik.ipynb\" target=\"_parent\"><img src=\"https://colab.research.google.com/assets/colab-badge.svg\" alt=\"Open In Colab\"/></a>"
      ]
    },
    {
      "cell_type": "code",
      "execution_count": null,
      "metadata": {
        "id": "qJTdxgQfqq4k"
      },
      "outputs": [],
      "source": [
        "## required multiple functions as the main url dont have the agent's info but only list of properties"
      ]
    },
    {
      "cell_type": "code",
      "source": [
        "!pip install selenium webdriver_manager"
      ],
      "metadata": {
        "id": "OVPiDgPvrFiP"
      },
      "execution_count": null,
      "outputs": []
    },
    {
      "cell_type": "code",
      "source": [
        "# function 1 - get the property's link from the ibilik url and required region\n",
        "## Limitation - do one page only each time\n",
        "from selenium import webdriver\n",
        "from selenium.webdriver.firefox.options import Options\n",
        "from selenium.webdriver.common.by import By\n",
        "from selenium.webdriver.support.ui import WebDriverWait\n",
        "from selenium.webdriver.support import expected_conditions as EC\n",
        "import time\n",
        "\n",
        "def get_property_links(core_url=\"https://www.ibilik.my/rooms\", region=None, page=None):\n",
        "    if region is None:\n",
        "        raise ValueError(\"Please provide valid values for 'region'\")\n",
        "\n",
        "    options = Options()\n",
        "    options.headless = True\n",
        "    options.add_argument(\"--headless\")\n",
        "    driver = webdriver.Firefox(options=options)\n",
        "    driver.minimize_window()\n",
        "\n",
        "    try:\n",
        "        if page == 1:\n",
        "            url = rf\"{core_url}/{region}\"\n",
        "        else:\n",
        "            url = rf\"{core_url}/{region}?page={page}\"\n",
        "\n",
        "        driver.get(url)\n",
        "\n",
        "        WebDriverWait(driver, 10).until(\n",
        "            EC.presence_of_element_located((By.CLASS_NAME, 'dir-alp-con-right-1'))\n",
        "        )\n",
        "\n",
        "        # \"/a\" to select the 'a' element that is a child of the 'div' element\n",
        "        property_links = driver.find_elements(By.XPATH, \"//div[contains(@class, 'home-list-pop-desc inn-list-pop-desc')]/a\")\n",
        "        all_property_links = [property_link.get_attribute('href') for property_link in property_links]\n",
        "\n",
        "        return all_property_links\n",
        "\n",
        "    except Exception as e:\n",
        "        print(f\"Error: {e}\")\n",
        "        return []\n",
        "\n",
        "    finally:\n",
        "        driver.quit()"
      ],
      "metadata": {
        "id": "PSB3vmxDqzth"
      },
      "execution_count": null,
      "outputs": []
    },
    {
      "cell_type": "code",
      "source": [
        "# function 2 - get the agent's name and phone number from the url\n",
        "## Limitation - can only handle one link each time, need to iterate the function for each link\n",
        "def get_agent_info(property_link):\n",
        "    agent_info = {}\n",
        "\n",
        "    options = Options()\n",
        "    options.headless = True\n",
        "    options.add_argument(\"--headless\")\n",
        "    driver = webdriver.Firefox(options=options)\n",
        "    driver.minimize_window()\n",
        "\n",
        "    try:\n",
        "        driver.get(property_link)\n",
        "\n",
        "        WebDriverWait(driver, 10).until(\n",
        "            EC.presence_of_element_located((By.CLASS_NAME, 'list-pg-btn'))\n",
        "        )\n",
        "\n",
        "        agent_info_elements = driver.find_elements(By.XPATH, \"//div[contains(@class, 'col-xs-9')]/span[contains(@class, 'name')]\")\n",
        "\n",
        "        if agent_info_elements:\n",
        "            name_and_number = [name_element.text.strip() for name_element in agent_info_elements]\n",
        "            agent_name = name_and_number[0]  # Extracting the first word as the name\n",
        "            phone_number = name_and_number[1]  # Extracting the second word as the phone number\n",
        "\n",
        "            agent_info = {\n",
        "                'agent_name': agent_name,\n",
        "                'phone_number': phone_number\n",
        "            }\n",
        "\n",
        "        else:\n",
        "            agent_info = driver.find_element(By.CLASS_NAME, 'list-pg-btn').get_attribute('href')\n",
        "\n",
        "    except Exception as e:\n",
        "        print(f\"Error: {e}\")\n",
        "\n",
        "    finally:\n",
        "        driver.quit()\n",
        "\n",
        "    return agent_info"
      ],
      "metadata": {
        "id": "yQosnql7q1Li"
      },
      "execution_count": null,
      "outputs": []
    },
    {
      "cell_type": "code",
      "source": [
        "# to run above two functions and convert the result to Excel\n",
        "import pandas as pd\n",
        "\n",
        "# to get multiple agents' profile\n",
        "property_links = []\n",
        "\n",
        "# loop for multiple pages\n",
        "for page_number in range(1, 3):  # Scrapes pages 1 to 2\n",
        "    # function 1\n",
        "    property_link = get_property_links(core_url=\"https://www.ibilik.my/rooms\", region='kuala_lumpur', page=page_number)\n",
        "    property_links.extend(property_link)\n",
        "\n",
        "agent_info_list = []\n",
        "# to get agent's info from each links above\n",
        "for property_link in property_links:\n",
        "    # function 2\n",
        "    agent_info = get_agent_info(property_link)\n",
        "\n",
        "    if 'agent_name' in agent_info and 'phone_number' in agent_info:\n",
        "        agent_info_list.append({'Agent Name': agent_info['agent_name'], 'Phone Number': agent_info['phone_number']})\n",
        "    elif isinstance(agent_info, str):\n",
        "        agent_info_list.append({'Agent Name': agent_info, 'Phone Number': None})\n",
        "    else:\n",
        "        agent_info_list.append({'Agent Name': None, 'Phone Number': None})\n",
        "\n",
        "# Convert the list to a DataFrame\n",
        "df = pd.DataFrame(agent_info_list)\n",
        "# df = pd.DataFrame(agent_info_list, columns=['Agent Name', 'Phone Number'])\n",
        "\n",
        "print(df)\n",
        "\n",
        "with open('output.txt', 'w') as f:\n",
        "  print(df, file=f)"
      ],
      "metadata": {
        "id": "mnnwS3nzsKNx"
      },
      "execution_count": null,
      "outputs": []
    }
  ]
}