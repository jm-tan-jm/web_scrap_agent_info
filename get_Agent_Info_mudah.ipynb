{
  "cells": [
    {
      "cell_type": "markdown",
      "metadata": {
        "id": "view-in-github",
        "colab_type": "text"
      },
      "source": [
        "<a href=\"https://colab.research.google.com/github/jm-tan-jm/web_scrap_agent_info/blob/failed/get_Agent_Info_mudah.ipynb\" target=\"_parent\"><img src=\"https://colab.research.google.com/assets/colab-badge.svg\" alt=\"Open In Colab\"/></a>"
      ]
    },
    {
      "cell_type": "code",
      "execution_count": null,
      "metadata": {
        "id": "qJTdxgQfqq4k"
      },
      "outputs": [],
      "source": [
        "## get agent profile links only, as the phone number are hidden"
      ]
    },
    {
      "cell_type": "code",
      "execution_count": null,
      "metadata": {
        "colab": {
          "base_uri": "https://localhost:8080/"
        },
        "id": "OVPiDgPvrFiP",
        "outputId": "dd4f0314-61c6-43dc-fbf0-5cf7aea4cc89"
      },
      "outputs": [
        {
          "output_type": "stream",
          "name": "stdout",
          "text": [
            "Collecting selenium\n",
            "  Downloading selenium-4.18.1-py3-none-any.whl (10.0 MB)\n",
            "\u001b[2K     \u001b[90m━━━━━━━━━━━━━━━━━━━━━━━━━━━━━━━━━━━━━━━━\u001b[0m \u001b[32m10.0/10.0 MB\u001b[0m \u001b[31m28.1 MB/s\u001b[0m eta \u001b[36m0:00:00\u001b[0m\n",
            "\u001b[?25hCollecting webdriver_manager\n",
            "  Downloading webdriver_manager-4.0.1-py2.py3-none-any.whl (27 kB)\n",
            "Requirement already satisfied: urllib3[socks]<3,>=1.26 in /usr/local/lib/python3.10/dist-packages (from selenium) (2.0.7)\n",
            "Collecting trio~=0.17 (from selenium)\n",
            "  Downloading trio-0.24.0-py3-none-any.whl (460 kB)\n",
            "\u001b[2K     \u001b[90m━━━━━━━━━━━━━━━━━━━━━━━━━━━━━━━━━━━━━━━━\u001b[0m \u001b[32m460.2/460.2 kB\u001b[0m \u001b[31m38.4 MB/s\u001b[0m eta \u001b[36m0:00:00\u001b[0m\n",
            "\u001b[?25hCollecting trio-websocket~=0.9 (from selenium)\n",
            "  Downloading trio_websocket-0.11.1-py3-none-any.whl (17 kB)\n",
            "Requirement already satisfied: certifi>=2021.10.8 in /usr/local/lib/python3.10/dist-packages (from selenium) (2024.2.2)\n",
            "Requirement already satisfied: typing_extensions>=4.9.0 in /usr/local/lib/python3.10/dist-packages (from selenium) (4.9.0)\n",
            "Requirement already satisfied: requests in /usr/local/lib/python3.10/dist-packages (from webdriver_manager) (2.31.0)\n",
            "Collecting python-dotenv (from webdriver_manager)\n",
            "  Downloading python_dotenv-1.0.1-py3-none-any.whl (19 kB)\n",
            "Requirement already satisfied: packaging in /usr/local/lib/python3.10/dist-packages (from webdriver_manager) (23.2)\n",
            "Requirement already satisfied: attrs>=20.1.0 in /usr/local/lib/python3.10/dist-packages (from trio~=0.17->selenium) (23.2.0)\n",
            "Requirement already satisfied: sortedcontainers in /usr/local/lib/python3.10/dist-packages (from trio~=0.17->selenium) (2.4.0)\n",
            "Requirement already satisfied: idna in /usr/local/lib/python3.10/dist-packages (from trio~=0.17->selenium) (3.6)\n",
            "Collecting outcome (from trio~=0.17->selenium)\n",
            "  Downloading outcome-1.3.0.post0-py2.py3-none-any.whl (10 kB)\n",
            "Requirement already satisfied: sniffio>=1.3.0 in /usr/local/lib/python3.10/dist-packages (from trio~=0.17->selenium) (1.3.0)\n",
            "Requirement already satisfied: exceptiongroup in /usr/local/lib/python3.10/dist-packages (from trio~=0.17->selenium) (1.2.0)\n",
            "Collecting wsproto>=0.14 (from trio-websocket~=0.9->selenium)\n",
            "  Downloading wsproto-1.2.0-py3-none-any.whl (24 kB)\n",
            "Requirement already satisfied: pysocks!=1.5.7,<2.0,>=1.5.6 in /usr/local/lib/python3.10/dist-packages (from urllib3[socks]<3,>=1.26->selenium) (1.7.1)\n",
            "Requirement already satisfied: charset-normalizer<4,>=2 in /usr/local/lib/python3.10/dist-packages (from requests->webdriver_manager) (3.3.2)\n",
            "Collecting h11<1,>=0.9.0 (from wsproto>=0.14->trio-websocket~=0.9->selenium)\n",
            "  Downloading h11-0.14.0-py3-none-any.whl (58 kB)\n",
            "\u001b[2K     \u001b[90m━━━━━━━━━━━━━━━━━━━━━━━━━━━━━━━━━━━━━━━━\u001b[0m \u001b[32m58.3/58.3 kB\u001b[0m \u001b[31m9.3 MB/s\u001b[0m eta \u001b[36m0:00:00\u001b[0m\n",
            "\u001b[?25hInstalling collected packages: python-dotenv, outcome, h11, wsproto, webdriver_manager, trio, trio-websocket, selenium\n",
            "Successfully installed h11-0.14.0 outcome-1.3.0.post0 python-dotenv-1.0.1 selenium-4.18.1 trio-0.24.0 trio-websocket-0.11.1 webdriver_manager-4.0.1 wsproto-1.2.0\n"
          ]
        }
      ],
      "source": [
        "!pip install selenium webdriver_manager"
      ]
    },
    {
      "cell_type": "code",
      "execution_count": null,
      "metadata": {
        "id": "PSB3vmxDqzth"
      },
      "outputs": [],
      "source": [
        "# function 1 - get the item's link from the mudah url with required parameters\n",
        "## Limitation - do one page only each time\n",
        "from selenium import webdriver\n",
        "from selenium.webdriver.firefox.options import Options\n",
        "from selenium.webdriver.common.by import By\n",
        "from selenium.webdriver.support.ui import WebDriverWait\n",
        "from selenium.webdriver.support import expected_conditions as EC\n",
        "from selenium.common.exceptions import TimeoutException, NoSuchElementException\n",
        "import time\n",
        "\n",
        "def get_item_links(core_url=\"https://www.mudah.my\", region=None, category=None, page=None):\n",
        "    if region is None or category is None:\n",
        "        raise ValueError(\"Please provide valid values for 'region' or 'category'\")\n",
        "\n",
        "    options = Options()\n",
        "    options.add_argument(\"--headless\")\n",
        "    driver = webdriver.Firefox(options=options)\n",
        "\n",
        "    try:\n",
        "        if page == 1:\n",
        "            url = rf\"{core_url}/{region}/{category}\"\n",
        "        else:\n",
        "            url = rf\"{core_url}/{region}/{category}?o={page}\"\n",
        "\n",
        "        driver.get(url)\n",
        "\n",
        "        # Wait for the item container to be present\n",
        "        WebDriverWait(driver, 10)\n",
        "\n",
        "        item_links = driver.find_elements(By.XPATH, \"//div[contains(@class, 'sc-gxMtzJ dezEbJ')]/a\")\n",
        "        all_item_links = [item_link.get_attribute('href') for item_link in item_links]\n",
        "\n",
        "        return all_item_links\n",
        "\n",
        "    except Exception as e:\n",
        "        print(f\"Error: {e}\")\n",
        "        return []\n",
        "\n",
        "    finally:\n",
        "        driver.quit()"
      ]
    },
    {
      "cell_type": "code",
      "execution_count": null,
      "metadata": {
        "id": "yQosnql7q1Li"
      },
      "outputs": [],
      "source": [
        "# function 2 - get the agent profile's link from the url\n",
        "## Limitation - can only handle one link each time, need to iterate the function for each link\n",
        "def get_agent_link(item_link):\n",
        "    options = Options()\n",
        "    options.add_argument(\"--headless\")\n",
        "    driver = webdriver.Firefox(options=options)\n",
        "\n",
        "    try:\n",
        "        driver.get(item_link)\n",
        "        WebDriverWait(driver, 10)\n",
        "\n",
        "        agent_links = driver.find_elements(By.XPATH, \"//div[contains(@class, 'sc-fgfRvd iuuSSK')]/a\")\n",
        "        all_agent_link = [agent_link.get_attribute('href') for agent_link in agent_links]\n",
        "\n",
        "        return all_agent_link\n",
        "\n",
        "    except Exception as e:\n",
        "        print(f\"Error: {e}\")\n",
        "        return []\n",
        "\n",
        "    finally:\n",
        "        driver.quit()\n",
        "\n",
        "    return agent_info"
      ]
    },
    {
      "cell_type": "code",
      "execution_count": null,
      "metadata": {
        "colab": {
          "base_uri": "https://localhost:8080/"
        },
        "id": "mnnwS3nzsKNx",
        "outputId": "680185de-adff-4145-dd4f-1e843ea55fe2"
      },
      "outputs": [
        {
          "output_type": "stream",
          "name": "stdout",
          "text": [
            "Empty DataFrame\n",
            "Columns: [Agent Links]\n",
            "Index: []\n"
          ]
        }
      ],
      "source": [
        "# to run above two functions and convert the result to Excel\n",
        "import pandas as pd\n",
        "\n",
        "# to get multiple agents' profile\n",
        "item_links = []\n",
        "\n",
        "# loop for multiple pages\n",
        "for page_number in range(1, 3):  # Scrapes pages 1 to 2\n",
        "    # function 1\n",
        "    item_link = get_item_links(core_url=\"https://www.mudah.my\", region=\"kuala-lumpur\", category=\"properties-for-rent\", page=None)\n",
        "    item_links.extend(item_link)\n",
        "\n",
        "agent_links = []\n",
        "# to get agent profile link from each links above\n",
        "for item_link in item_links:\n",
        "    # function 2\n",
        "    agent_link = get_agent_link(item_link)\n",
        "    agent_links.extend(agent_link)\n",
        "\n",
        "# Remove duplicates\n",
        "unique_agent_links = list(set(agent_links))\n",
        "\n",
        "# Convert the list to a DataFrame\n",
        "df = pd.DataFrame(unique_agent_links, columns=['Agent Links'])\n",
        "\n",
        "print(df)\n",
        "\n",
        "with open('output.txt', 'w') as f:\n",
        "  print(df, file=f)"
      ]
    }
  ],
  "metadata": {
    "colab": {
      "provenance": [],
      "include_colab_link": true
    },
    "kernelspec": {
      "display_name": "Python 3",
      "name": "python3"
    },
    "language_info": {
      "name": "python"
    }
  },
  "nbformat": 4,
  "nbformat_minor": 0
}